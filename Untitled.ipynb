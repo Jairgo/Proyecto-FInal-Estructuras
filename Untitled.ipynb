{
 "cells": [
  {
   "cell_type": "code",
   "execution_count": 2,
   "metadata": {},
   "outputs": [
    {
     "data": {
      "application/vnd.jupyter.widget-view+json": {
       "model_id": "863112a3d74748e3a3e4fcd2d5cac673",
       "version_major": 2,
       "version_minor": 0
      },
      "text/plain": [
       "JupyterWidget(events=['{\"attrs\": {\"size\": [300, 200]}}', '{\"attrs\": {\"nodes\": {\"1\": {}, \"2\": {}}}}', '{\"attrs\"…"
      ]
     },
     "metadata": {},
     "output_type": "display_data"
    }
   ],
   "source": [
    "import algorithmx\n",
    "\n",
    "# Create a Jupyter canvas interface\n",
    "canvas = algorithmx.jupyter_canvas()\n",
    "\n",
    "# Set the size of the canvas\n",
    "canvas.size((300, 200))\n",
    "\n",
    "# Use the library normally, for example:\n",
    "canvas.nodes([1, 2]).add()\n",
    "canvas.edge((1, 2)).add()\n",
    "\n",
    "# Display the canvas\n",
    "display(canvas)\n",
    "\n",
    "canvas = algorithmx.jupyter_canvas(buttons=True)"
   ]
  },
  {
   "cell_type": "code",
   "execution_count": 9,
   "metadata": {},
   "outputs": [
    {
     "name": "stdout",
     "output_type": "stream",
     "text": [
      "Nodes: [1, 2, 3, 4, 5]\n",
      "Edges: [(1, 2), (2, 3), (2, 4), (2, 5)]\n"
     ]
    },
    {
     "data": {
      "application/vnd.jupyter.widget-view+json": {
       "model_id": "55ddf98e7a0d4a8b9de0a627bb4d2abf",
       "version_major": 2,
       "version_minor": 0
      },
      "text/plain": [
       "JupyterWidget(events=['{\"attrs\": {\"nodes\": {\"1\": {\"shape\": \"rect\", \"size\": [20, 12], \"color\": \"red\"}, \"2\": {\"s…"
      ]
     },
     "metadata": {},
     "output_type": "display_data"
    }
   ],
   "source": [
    "import networkx as nx\n",
    "from algorithmx import jupyter_canvas\n",
    "\n",
    "G = nx.Graph()\n",
    "\n",
    "nx.add_path(G, [1, 2, 3])\n",
    "nx.add_path(G, [4, 2, 5])\n",
    "\n",
    "print('Nodes:', G.nodes)\n",
    "print('Edges:', G.edges)\n",
    "\n",
    "canvas = jupyter_canvas()\n",
    "\n",
    "node_colors = {1: 'red', 2: 'green', 3: 'blue', 4: 'orange', 5: 'purple'}\n",
    "\n",
    "canvas.nodes(G.nodes).add(\n",
    "    shape='rect',\n",
    "    size=(20, 12),\n",
    "    color=lambda n: node_colors[n]\n",
    ")\n",
    "canvas.edges(G.edges).add()\n",
    "\n",
    "canvas"
   ]
  },
  {
   "cell_type": "code",
   "execution_count": 11,
   "metadata": {},
   "outputs": [],
   "source": [
    "import networkx as nx\n",
    "\n",
    "# Generate a random graph\n",
    "G = nx.fast_gnp_random_graph(10, 0.3, seed=50)\n",
    "nx.set_node_attributes(G, False, 'seen')\n",
    "canvas = jupyter_canvas()\n",
    "# Render graph\n",
    "canvas.nodes(G.nodes).add().label().remove()\n",
    "canvas.edges(G.edges).add()\n",
    "canvas.pause(1)\n",
    "\n",
    "# Recursive DFS function\n",
    "def dfs(n):\n",
    "    G.nodes[n]['seen'] = True\n",
    "\n",
    "    canvas.node(n).highlight().size('1.25x')\n",
    "    canvas.node(n).color('blue')\n",
    "    canvas.pause(0.5)\n",
    "\n",
    "    for n2 in G.neighbors(n):\n",
    "        if G.nodes[n2]['seen']:\n",
    "            continue\n",
    "\n",
    "        canvas.edge((n, n2)).traverse('red').pause(0.5)\n",
    "        dfs(n2) # DFS on neighbor\n",
    "        canvas.edge((n2, n)).traverse('blue').pause(0.5)\n",
    "        canvas.node(n).highlight().size('1.25x').pause(0.5)\n",
    "        \n",
    "dfs(0)"
   ]
  },
  {
   "cell_type": "code",
   "execution_count": null,
   "metadata": {},
   "outputs": [],
   "source": []
  }
 ],
 "metadata": {
  "kernelspec": {
   "display_name": "Python 3",
   "language": "python",
   "name": "python3"
  },
  "language_info": {
   "codemirror_mode": {
    "name": "ipython",
    "version": 3
   },
   "file_extension": ".py",
   "mimetype": "text/x-python",
   "name": "python",
   "nbconvert_exporter": "python",
   "pygments_lexer": "ipython3",
   "version": "3.8.3"
  }
 },
 "nbformat": 4,
 "nbformat_minor": 4
}
